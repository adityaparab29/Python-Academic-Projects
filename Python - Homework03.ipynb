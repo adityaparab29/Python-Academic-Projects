{
 "cells": [
  {
   "attachments": {},
   "cell_type": "markdown",
   "id": "b136d69c",
   "metadata": {},
   "source": [
    "## Python Programming - Homework 3\n",
    "\n",
    "**_Name: Aditya Ramesh Parab_**"
   ]
  },
  {
   "cell_type": "markdown",
   "id": "08b859d9",
   "metadata": {},
   "source": [
    "### Question 1 \n",
    "An example file called stock.txt is included in the homework files. The file contains daily headline of Apple inc.’s stock price and movement. You are required to write a program that reads the file, extract the date and stock price from each day’s headline, and list them below. "
   ]
  },
  {
   "cell_type": "markdown",
   "id": "7a9dc147",
   "metadata": {},
   "source": [
    "Algorithm:\n",
    "1. Open the stock.txt file\n",
    "2. Read entire file\n",
    "3. Regex to extract Date which is in the format Month Day\n",
    "<br>_(Jan(?:uary)?|Feb(?:ruary)?|Mar(?:ch)?|Apr(?:il)?|May|Jun(?:e)?|Jul(?:y)?|Aug(?:ust)?|Sep(?:tember)?|Oct(?:ober)?|Nov(?:ember)?|Dec(?:ember)?)\\s+(\\d{1,2})_\n",
    "<br> The Month will extract month either be it just first 3 letters or whole month name followed by 1 or 2 digits with space between Month and Date\n",
    "4. Regex to extract stock price\n",
    "<br> _\\d+[.]\\d+_ decimal number will be extracted\n",
    "5. Map Dates with Stock prices\n",
    "6. Print Data"
   ]
  },
  {
   "cell_type": "code",
   "execution_count": 1,
   "id": "2d3e3905",
   "metadata": {},
   "outputs": [
    {
     "name": "stdout",
     "output_type": "stream",
     "text": [
      "Rumor of Apple car coming, Apr 28, Apple stock trended higher to 112.05\n",
      "Market opening Apr 29, Apple rises to $114.86 following earning beat\n",
      "Apr 30, Apple crashes to 98.29 as tech stocks tumble on fear of rate hike\n",
      "Analysts say Apple a great buy at $107.45, following yesterday's correction, May 01\n",
      "Apple opens at 105.60 and trades higher midday May 2\n",
      "May 3, Apple stock is at a all time high at 116.80 after better than expected iPhone oversea market reporting over 80 million units shipped\n",
      "Apple stock closes more than 3 percent higher on $121.04 on May 4 \n",
      "\n",
      "Apple inc. stock prices:\n",
      "Apr 28 $112.05\n",
      "Apr 29 $114.86\n",
      "Apr 30 $98.29\n",
      "May 01 $107.45\n",
      "May 02 $105.60\n",
      "May 03 $116.80\n",
      "May 04 $121.04\n"
     ]
    }
   ],
   "source": [
    "import re\n",
    "\n",
    "try:\n",
    "    fhand = open('stock.txt')\n",
    "    data = fhand.read()\n",
    "    fhand.close()\n",
    "\n",
    "    print(data, '\\n')\n",
    "    dates = re.findall('(Jan(?:uary)?|Feb(?:ruary)?|Mar(?:ch)?|Apr(?:il)?|May|Jun(?:e)?|Jul(?:y)?|Aug(?:ust)?|Sep(?:tember)?|Oct(?:ober)?|Nov(?:ember)?|Dec(?:ember)?)\\s+(\\d{1,2})',data)\n",
    "    stock_value = re.findall('\\d+[.]\\d+',data)\n",
    "    stock_value = ['$'+ stock for stock in stock_value]\n",
    "\n",
    "\n",
    "    for index, element in enumerate(dates):\n",
    "        if len(element[1]) == 1:\n",
    "            date = '0'+ element[1]\n",
    "            dates[index] = element[0],date\n",
    "\n",
    "    print('Apple inc. stock prices:')\n",
    "    for date, price in zip(dates, stock_value):\n",
    "        print(date[0],date[1], price)\n",
    "except:\n",
    "    print('Something went wrong!')"
   ]
  },
  {
   "cell_type": "markdown",
   "id": "5e97955f",
   "metadata": {},
   "source": [
    "### Question 2\n",
    "An example file called movie_reviews.txt is included in the homework files.\n",
    "The file contains names of reviewers and their reviews of different movies in the comma \n",
    "separated format. The first string is the name of the reviewer followed by a name of a movie \n",
    "and its rating. You are required to write a Python program that computes a similarity score \n",
    "between  any  two  reviewers  using  Euclidean  distance"
   ]
  },
  {
   "cell_type": "markdown",
   "id": "50261d41",
   "metadata": {},
   "source": [
    "Algorithm:\n",
    "\n",
    "Program is split in 3 parts.\n",
    "1. Creating dictionary of the given reviewers data -> _create_dictionary()_ function\n",
    "2. Precalculating the similarity score of all the users with each other and storing it in a pandas dataframe -> _createDataFrame()_ function\n",
    "3. Menu driven program for user inputs -> _main()_ function"
   ]
  },
  {
   "cell_type": "code",
   "execution_count": 2,
   "id": "0c4c5fcc",
   "metadata": {},
   "outputs": [],
   "source": [
    "import os.path\n",
    "import sys\n",
    "\n",
    "def create_dictionary(file_name):\n",
    "    file_exists = os.path.exists(file_name)\n",
    "    if file_exists:\n",
    "        try:\n",
    "            fhand = open(file_name)\n",
    "            data = fhand.read().rstrip().splitlines()\n",
    "            fhand.close()\n",
    "\n",
    "            movie_reviews = {}\n",
    "            for line in data:\n",
    "                record = line.split(',')\n",
    "                dic = {}\n",
    "                for index in range(1, len(record), 2):\n",
    "                    dic[record[index]] = float(record[index+1])\n",
    "                name = record[0].upper()\n",
    "                movie_reviews[name] = dic\n",
    "\n",
    "            return movie_reviews\n",
    "        except:\n",
    "            print('Something went wrong!')\n",
    "            sys.exit(0)\n",
    "    else:\n",
    "        print('*** File with name', file_name,'not Found')\n",
    "        sys.exit(0)"
   ]
  },
  {
   "cell_type": "code",
   "execution_count": 3,
   "id": "44928437",
   "metadata": {},
   "outputs": [],
   "source": [
    "import math\n",
    "import pandas as pd\n",
    "\n",
    "def createDataFrame(movie_reviews):\n",
    "    reviewers = list(movie_reviews.keys())\n",
    "    #print(reviewers)\n",
    "    pdData=[]\n",
    "\n",
    "    for i in range(len(reviewers)):\n",
    "        tup = []\n",
    "        for j in range(len(reviewers)):\n",
    "            if reviewers[i] == reviewers[j]:\n",
    "                tup.append(0)\n",
    "                continue\n",
    "            \n",
    "            dic1 = movie_reviews[reviewers[i]]\n",
    "            dic2 = movie_reviews[reviewers[j]]\n",
    "            \n",
    "            sum = 0\n",
    "            for title in set(dic1).intersection(dic2):\n",
    "                sum = sum + pow((dic1[title] - dic2[title]),2)\n",
    "\n",
    "            euDis = round(math.sqrt(sum), 4)\n",
    "            tup.append(euDis)\n",
    "            #print(reviewers[i],'-', reviewers[j], ':', euDis)\n",
    "        pdData.append(tup)\n",
    "    df = pd.DataFrame(pdData, columns =reviewers)\n",
    "    df.index = reviewers\n",
    "    return df;"
   ]
  },
  {
   "cell_type": "code",
   "execution_count": 4,
   "id": "7ddf7d6c",
   "metadata": {},
   "outputs": [],
   "source": [
    "def test_input(inp):\n",
    "    valid = ['1','2','3']\n",
    "    while(True):\n",
    "        if inp in valid:\n",
    "            return inp\n",
    "        else:\n",
    "            print('Not a valid input. Please enter either 1, 2 or 3 only')\n",
    "            inp = input('Enter again : ')"
   ]
  },
  {
   "cell_type": "code",
   "execution_count": 5,
   "id": "2742582c",
   "metadata": {},
   "outputs": [],
   "source": [
    "import pandas as pd\n",
    "\n",
    "def main():\n",
    "    file_name = input('Give the name of the movie reviews file: ')\n",
    "    \n",
    "    movie_reviews = create_dictionary(file_name)\n",
    "    \n",
    "    #Uncomment for if user input is not required\n",
    "    #movie_reviews = create_dictionary('movie_reviews.txt')\n",
    "    df = createDataFrame(movie_reviews)\n",
    "    reviewers = list(df)\n",
    "   \n",
    "    while True:\n",
    "        print('\\nWhat do you want to do?\\nInput 1 for similarity between two reviewers.\\nInput 2 for similarity between one reviewer and all others in the database.\\nInput 3 to Quit.')\n",
    "        choice = input('Input your choice: ')\n",
    "        choice = test_input(choice)\n",
    "        if choice == '1':\n",
    "            name1 = input('Provide Reviewer1 name: ')\n",
    "            name2 = input('Provide Reviewer2 name: ')\n",
    "            name1 = name1.upper()\n",
    "            name2 = name2.upper()\n",
    "            \n",
    "            if set([name1, name2]).issubset(set(name for name in reviewers)):\n",
    "                result = df.loc[name1,name2]\n",
    "                print('\\nThe similarity score between',name1,'and',name2,'is: ',result)\n",
    "            else:\n",
    "                print('*** Reviewer names (either or all entered)', name1,'and', name2, ', not found in the database ***')\n",
    "                \n",
    "\n",
    "        elif choice == '2':\n",
    "            name = input('Provide Reviewer name: ')\n",
    "            name = name.upper()\n",
    "            if name in reviewers:\n",
    "                result = df.loc[name].values.flatten().tolist()\n",
    "                print('\\nThe Similarity Scores are:')\n",
    "                for dfName, score in zip(reviewers, result):\n",
    "                    if name == dfName:\n",
    "                        continue\n",
    "                    print(name, '-',dfName, ':', score)\n",
    "            else:\n",
    "                print('*** Reviewer name', name,', is not in the database ***')\n",
    "            \n",
    "        else:\n",
    "            print('Goodbye!')\n",
    "            break;\n",
    "    "
   ]
  },
  {
   "cell_type": "code",
   "execution_count": 6,
   "id": "5ec2a20c",
   "metadata": {},
   "outputs": [
    {
     "name": "stdout",
     "output_type": "stream",
     "text": [
      "Give the name of the movie reviews file: movie_reviews.txt\n",
      "\n",
      "What do you want to do?\n",
      "Input 1 for similarity between two reviewers.\n",
      "Input 2 for similarity between one reviewer and all others in the database.\n",
      "Input 3 to Quit.\n",
      "Input your choice: 2\n",
      "Provide Reviewer name: Peter\n",
      "\n",
      "The Similarity Scores are:\n",
      "PETER - NANCY POLLOCK : 1.8708\n",
      "PETER - JACK HOLMES : 2.8723\n",
      "PETER - MARY DOYLE : 1.5811\n",
      "PETER - DOUG REDPATH : 1.8028\n",
      "PETER - JILL BROWN : 1.5\n",
      "PETER - TREVOR CHAPPELL : 2.7386\n",
      "\n",
      "What do you want to do?\n",
      "Input 1 for similarity between two reviewers.\n",
      "Input 2 for similarity between one reviewer and all others in the database.\n",
      "Input 3 to Quit.\n",
      "Input your choice: 1\n",
      "Provide Reviewer1 name: nancy pollock\n",
      "Provide Reviewer2 name: Trevor Chappell\n",
      "\n",
      "The similarity score between NANCY POLLOCK and TREVOR CHAPPELL is:  1.9365\n",
      "\n",
      "What do you want to do?\n",
      "Input 1 for similarity between two reviewers.\n",
      "Input 2 for similarity between one reviewer and all others in the database.\n",
      "Input 3 to Quit.\n",
      "Input your choice: 3\n",
      "Goodbye!\n"
     ]
    }
   ],
   "source": [
    "main()"
   ]
  }
 ],
 "metadata": {
  "kernelspec": {
   "display_name": "Python 3 (ipykernel)",
   "language": "python",
   "name": "python3"
  },
  "language_info": {
   "codemirror_mode": {
    "name": "ipython",
    "version": 3
   },
   "file_extension": ".py",
   "mimetype": "text/x-python",
   "name": "python",
   "nbconvert_exporter": "python",
   "pygments_lexer": "ipython3",
   "version": "3.8.12"
  }
 },
 "nbformat": 4,
 "nbformat_minor": 5
}
