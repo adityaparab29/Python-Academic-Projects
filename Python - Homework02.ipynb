{
 "cells": [
  {
   "attachments": {},
   "cell_type": "markdown",
   "id": "a8bc7964",
   "metadata": {},
   "source": [
    "## Python Programming - Homework 2\n",
    "\n",
    "_**Name: Aditya Ramesh Parab**_"
   ]
  },
  {
   "cell_type": "markdown",
   "id": "c4240373",
   "metadata": {},
   "source": [
    "### Question 1 \n",
    "Download the mbox-short.text file attached below. Read the file into python, and find out the email address of every contact that has sent an email to us in the past. Count how many times they have contacted us, and print out their email address as well as the number of past interactions. "
   ]
  },
  {
   "cell_type": "markdown",
   "id": "2d919cbf",
   "metadata": {},
   "source": [
    "Algorithm:\n",
    "1) Read the file mbox-short.txt using basic open() function<br>\n",
    "2) For each line of the file<br>\n",
    "2.1) Remove any white spaces at the end of the string using rstrip()<br>\n",
    "2.2) Check if line starts with 'From' - this will get us line of every contact that has sent an email to us in the past<br>\n",
    "2.2.1) If true store the email id vs count in a dictionary 'email_count'<br>\n",
    "3) Finally print all key and value from dictionary 'email_count'\n"
   ]
  },
  {
   "cell_type": "code",
   "execution_count": 14,
   "id": "3acca7ff",
   "metadata": {},
   "outputs": [
    {
     "name": "stdout",
     "output_type": "stream",
     "text": [
      "stephen.marquard@uct.ac.za 2 times\n",
      "louis@media.berkeley.edu 3 times\n",
      "zqian@umich.edu 4 times\n",
      "rjlowe@iupui.edu 2 times\n",
      "cwen@iupui.edu 5 times\n",
      "gsilver@umich.edu 3 times\n",
      "wagnermr@iupui.edu 1 times\n",
      "antranig@caret.cam.ac.uk 1 times\n",
      "gopal.ramasammycook@gmail.com 1 times\n",
      "david.horwitz@uct.ac.za 4 times\n",
      "ray@media.berkeley.edu 1 times\n"
     ]
    }
   ],
   "source": [
    "fhand = open('mbox-short.txt')\n",
    "\n",
    "#dictionary\n",
    "email_count = {}\n",
    "\n",
    "for line in fhand:\n",
    "    line = line.rstrip()\n",
    "    if line.startswith('From:') :\n",
    "        # Getting the exact email id without any spaces\n",
    "        email = line[line.index(\" \") + 1:]\n",
    "        x = email_count.get(email)\n",
    "        # Check if element is present in dictionary - if yes increment count else count = 1 \n",
    "        if email in email_count:\n",
    "            email_count[email] = x+1\n",
    "        else:\n",
    "            email_count[email] = 1\n",
    "\n",
    "# Print output\n",
    "for email, times in email_count.items():\n",
    "    print(email, times, \"times\")"
   ]
  },
  {
   "cell_type": "markdown",
   "id": "ac85f97a",
   "metadata": {},
   "source": [
    "### Question 2\n",
    "Write a function that accepts a line of text and a single letter as input (your program should be able to handle all upper and lower cases) and returns the number of times this letter is the second last character of a word. Note your program should be able to handle different cases. And check if the user input is a single letter. Think about how you deal with words ending with punctuations.\n",
    "\n",
    "Example:\n",
    "\n",
    "Input text = \"When the sun rises at dawn, the CHICKEN flies into the window.\"\n",
    "\n",
    "Input letter = \"E\"\n",
    "\n",
    "Output = \"The letter E has appeared 4 times as the second last letter of a word.\""
   ]
  },
  {
   "cell_type": "markdown",
   "id": "9f540465",
   "metadata": {},
   "source": [
    "Algorithm:\n",
    "1) Since the program needs to count second last letter of each word, accept a line of text from user whose length is atleast 2. If user enters a single letter prompt invalid input.<br>\n",
    "2) Using regular expression replace all punctuation marks and special characters. Keep only alphanumeric string.<br>\n",
    "3) Split the string line into list of words<br>\n",
    "4) Input a single letter from user. This input can be of only length 1 and a English alphabet or single digit number<br>\n",
    "5) For each word in words list<br>\n",
    "5.1) Check if the word's second last letter is equal to input letter. If yes increment the count variable.<br>\n",
    "6) Print the output"
   ]
  },
  {
   "cell_type": "code",
   "execution_count": 15,
   "id": "c79137ea",
   "metadata": {},
   "outputs": [],
   "source": [
    "import string\n",
    "\n",
    "# This function tests for single input letter\n",
    "def test_input_for_single_letter(letter):\n",
    "    # Create a list of lowercase alphabets a-z and numbers 0-9\n",
    "    alphabet_list = list(string.ascii_lowercase)\n",
    "    alphabet_list.extend([str(x) for x in range(10)])\n",
    "    \n",
    "    while(True):\n",
    "        if letter.lower() in alphabet_list:\n",
    "            return letter\n",
    "        else:\n",
    "            print('Not a valid input. Please enter single letter only')\n",
    "            letter = input('Input letter again : ')"
   ]
  },
  {
   "cell_type": "code",
   "execution_count": 16,
   "id": "c815f0d7",
   "metadata": {},
   "outputs": [
    {
     "name": "stdout",
     "output_type": "stream",
     "text": [
      "Input text: When the sun rises at dawn, the CHICKEN flies into the window.\n",
      "Input letter: E\n",
      "\n",
      "The letter E has appeared 4 times as the second last letter of a word.\n"
     ]
    }
   ],
   "source": [
    "import re\n",
    "\n",
    "count = 0\n",
    "inp2 = input('Input text: ')\n",
    "\n",
    "if len(inp2) > 1:\n",
    "    # Regular expression to remove all punctuation marks and special characters\n",
    "    text = re.sub('[^0-9a-zA-Z ]+', '', inp2)\n",
    "    words = text.lower().split()\n",
    "    #print(words)\n",
    "\n",
    "    letter = test_input_for_single_letter(input('Input letter: '))\n",
    " \n",
    "    for word in words:\n",
    "        if len(word)>1 and word[-2] == letter.lower():\n",
    "            count += 1\n",
    "    print(\"\\nThe letter\", letter, \"has appeared\", count, \"times as the second last letter of a word.\")    \n",
    "else:\n",
    "    print('Invalid input. Enter a string of atleast length 2')\n"
   ]
  },
  {
   "cell_type": "markdown",
   "id": "777dbb0a",
   "metadata": {},
   "source": [
    "### Question 3\n",
    "\n",
    "Write a Python program to ask user input of a string, then ask user input of what letters they want to remove from the string. User can either put in \"odd\", \"even\" or a number \"n\" that is greater than 2. When user input \"odd\", it will remove the characters which have odd numbers in the sequence of the string. When user input \"even\", it will remove the characters which have even numbers in the sequence of the string. When user input \"n\" number, it will remove the characters which have nth numbers in the sequence of the string. Note that we are talking about the sequence of the letters, so the first letter in a string is number 1, the second is number 2, and so on.\n",
    "\n",
    "Example:\n",
    "\n",
    "Input string = \"abcdef\"\n",
    "Input choice = \"odd\"\n",
    "Output = \"bdf\"\n",
    "\n",
    "Input string = \"python\"\n",
    "Input choice = \"even\"\n",
    "Output = \"pto\"\n",
    " \n",
    "Input string = \"abcdef\"\n",
    "Input choice = \"3\"\n",
    "Output = \"abde\""
   ]
  },
  {
   "cell_type": "markdown",
   "id": "3dbe9d8e",
   "metadata": {},
   "source": [
    "Algorithm:\n",
    "1) Accept a string from user <br>\n",
    "2) Accept a choice of operation from user. It can either be Odd, Even or a number greater than 2 only. To validate this second input a function is defined test_input_choice.<br>\n",
    "3) To remove letters from String<br>\n",
    "3.1) If operation is Odd<br>\n",
    "3.1.1) A new string is made with concatenating letters from 1 to length of input1, skipping alternate letters of the string.<br>\n",
    "3.2) If operation is Even<br>\n",
    "3.2.1) A new string is made with concatenating letters from 0 to length of input1, skipping alternate letters of the string.<br>\n",
    "3.3) If operation is Number(Integer should be greater than 2)<br>\n",
    "3.3.1) A new string is made with concatenating letters from 0 to length of input1, skipping letters whose index value is a multiple of input choice.\n",
    "4) Output is displayed."
   ]
  },
  {
   "cell_type": "code",
   "execution_count": 35,
   "id": "437b871a",
   "metadata": {},
   "outputs": [],
   "source": [
    "def test_input_choice(choice, inp_str):\n",
    "    # List if valid choices\n",
    "    valid = ['odd', 'even']\n",
    "    while(True):\n",
    "        try:\n",
    "            if choice.lower() in valid:\n",
    "                return choice.lower()\n",
    "            else:\n",
    "                # As described in the question if input is number it should be greater than 2\n",
    "                num = int(choice)\n",
    "                if num > 2:\n",
    "                    return num\n",
    "                else:\n",
    "                    print('If you want to enter a number please enter a number greater than 2')\n",
    "                    choice =input('Enter your choice to replace characters (Odd, Even or Any Number): ')\n",
    "        except:\n",
    "            print('Invalid choice. You can only enter Odd, Even or Any Number')\n",
    "            choice =input('Enter your choice to replace characters (Odd, Even or any Number greater than 2): ')\n",
    "        "
   ]
  },
  {
   "cell_type": "code",
   "execution_count": 31,
   "id": "d9aecae1",
   "metadata": {},
   "outputs": [],
   "source": [
    "def removeChars(s, choice):\n",
    "    modified = ''\n",
    "    if type(choice) == str:\n",
    "        if choice == 'odd':\n",
    "            for i in range(1, len(s), 2):\n",
    "                modified += s[i]\n",
    "                #print(modified)\n",
    "        else:\n",
    "            for i in range(0, len(s), 2):\n",
    "                modified += s[i]\n",
    "                #print(modified)\n",
    "    else:\n",
    "        for i in range(1, len(s)+1):\n",
    "            if i % choice != 0:\n",
    "                modified += s[i-1]\n",
    "\n",
    "    return modified"
   ]
  },
  {
   "cell_type": "code",
   "execution_count": 34,
   "id": "36ec3674",
   "metadata": {},
   "outputs": [
    {
     "name": "stdout",
     "output_type": "stream",
     "text": [
      "Input String: abcdef\n",
      "Enter your choice to replace characters (Odd, Even or any Number greater than 2): 3\n",
      "\n",
      "Output: abde\n"
     ]
    }
   ],
   "source": [
    "inp3 = input('Input String: ')\n",
    "choice =input('Enter your choice to replace characters (Odd, Even or any Number greater than 2): ')\n",
    "choice = test_input_choice(choice, inp3)\n",
    "modified_str = removeChars(inp3, choice)\n",
    "print('\\nOutput:', modified_str)\n",
    " "
   ]
  },
  {
   "cell_type": "markdown",
   "id": "882c8ebf",
   "metadata": {},
   "source": [
    "### Question 4\n",
    "\n",
    "Write a Python program to create a Caesar encryption. Your program will first ask for the input of a secret message, then ask how many places you wish to shift each letter in the alphabet. In the end, your program will produce the shifted secret message as a string. Your program should be able to handle all upper and lower cases, and check if the user inputs are valid.\n",
    "\n",
    " \n",
    "\n",
    "Note: In cryptography, a Caesar cipher, also known as Caesar's cipher, the shift cipher, Caesar's code or Caesar shift, is one of the simplest and most widely known encryption techniques. It is a type of substitution cipher in which each letter in the plaintext is replaced by a letter some fixed number of positions down the alphabet. For example, with a shift of 3, D would be replaced by A, E would become B, and so on. The method is named after Julius Caesar, who used it in his private correspondence.\n",
    "\n",
    "Example:\n",
    "\n",
    "Secret message = \"This is a secret message\"\n",
    "\n",
    "Shift = 5\n",
    "\n",
    "Each letter is shifted 5 places to the left in alphabetical order.\n",
    "\n",
    "Secret output:\n",
    "\n",
    "\"ymnx nx f xjhwjy rjxxflj\""
   ]
  },
  {
   "cell_type": "markdown",
   "id": "5b318b05",
   "metadata": {},
   "source": [
    "1) Accept input message from user<br>\n",
    "2) Accept shift value as a number<br>\n",
    "3) For each alphabet in the input message ignore everything apart from alphabets<br>\n",
    "3.1) Get the unicode/ascii value of the alphabet<br>\n",
    "3.2) Add the shift value to the unicode value<br>\n",
    "3.3) If the sum goes beyond the alphabetic range of unicode<br>\n",
    "3.3.1) For uppercase letters subtract 65 take mod of 26 and add 65 again to get the right unicode after shift<br>\n",
    "// In ASCII Table Uppercase Unicode range 65-90<br>\n",
    "3.3.2) For lowercase letters subtract 97 take mod of 26 and add 97 again to get the right unicode after shift<br>\n",
    "// In ASCII Table Lowercase Unicode range 97-112<br>\n",
    "//Encryption = ( x + n ) \\ mod {26}<br>\n",
    "4) Print output"
   ]
  },
  {
   "cell_type": "code",
   "execution_count": 36,
   "id": "9239fe74",
   "metadata": {},
   "outputs": [],
   "source": [
    "def encrypt(text, k):\n",
    "    result = ''\n",
    "    alphabet_list = list(string.ascii_lowercase)\n",
    "\n",
    "    # If k is negative (k = -5 is equivalent to k = 21)\n",
    "    if k < 0:\n",
    "        k = k % 26\n",
    " \n",
    "    for i in range(len(text)):\n",
    "        char = text[i]\n",
    "\n",
    "        # For alphabets only\n",
    "        if char.lower() in alphabet_list:\n",
    "            # For uppercase characters\n",
    "            if (char.isupper()):\n",
    "                result += chr((ord(char) + k - 65) % 26 + 65)\n",
    "\n",
    "            # For lowercase characters\n",
    "            else:\n",
    "                result += chr((ord(char) + k - 97) % 26 + 97)\n",
    "        else:\n",
    "            result += char\n",
    " \n",
    "    return result"
   ]
  },
  {
   "cell_type": "code",
   "execution_count": 37,
   "id": "db2dd60e",
   "metadata": {},
   "outputs": [],
   "source": [
    "def test_input_for_integer(inp):\n",
    "    while(True):\n",
    "        try:\n",
    "            n = int(inp)\n",
    "            return n\n",
    "        except:\n",
    "            print('Not a valid input. Please enter integer only')\n",
    "            inp = input('Enter again : ')"
   ]
  },
  {
   "cell_type": "code",
   "execution_count": 38,
   "id": "ec22d837",
   "metadata": {
    "scrolled": true
   },
   "outputs": [
    {
     "name": "stdout",
     "output_type": "stream",
     "text": [
      "Secret message: This is a secret message.\n",
      "Shift digit: 5\n",
      "Ymnx nx f xjhwjy rjxxflj.\n"
     ]
    }
   ],
   "source": [
    "inp4 = input('Secret message: ')\n",
    "k = test_input_for_integer(input('Shift digit: '))\n",
    "result = encrypt(inp4, int(k))\n",
    "print(result)"
   ]
  },
  {
   "cell_type": "markdown",
   "id": "adbb68b3",
   "metadata": {},
   "source": [
    "### Question 5\n",
    "\n",
    "Write a Python program to ask how many elements do users want to create in a list, then let the user create 2 lists with the number of elements previously entered. Then create and display all combinations of letters, selecting each letter from a different key in a dictionary, and place all these combinations in a new list.\n",
    "Example:\n",
    "\n",
    "How many elements?  2\n",
    "\n",
    "List 1 = ['a', 'b']\n",
    "\n",
    "List 2 = ['c', 'd']\n",
    "\n",
    "Output:\n",
    "\n",
    "newlist = [ac, ad, bc, bd]"
   ]
  },
  {
   "cell_type": "markdown",
   "id": "fb100b3f",
   "metadata": {},
   "source": [
    "Algorithm:\n",
    "1) Accept number of elements required in list.<br>\n",
    "2) Accept elements input from user for both lists.<br>\n",
    "3) Loop in both list and create new list with unique values by appending each element of list1 with list 2"
   ]
  },
  {
   "cell_type": "code",
   "execution_count": 12,
   "id": "b64bb425",
   "metadata": {},
   "outputs": [],
   "source": [
    "def test_input_for_integer(inp):\n",
    "    while(True):\n",
    "        try:\n",
    "            n = int(inp)\n",
    "            return n\n",
    "        except:\n",
    "            print('Not a valid input. Please enter integer only')\n",
    "            inp = input('Enter again : ')"
   ]
  },
  {
   "cell_type": "code",
   "execution_count": 13,
   "id": "f73e1917",
   "metadata": {
    "scrolled": false
   },
   "outputs": [
    {
     "name": "stdout",
     "output_type": "stream",
     "text": [
      "How many elements? 2\n",
      "Enter element 1 of List1: a\n",
      "Enter element 2 of List1: b\n",
      "Enter element 1 of List2: c\n",
      "Enter element 2 of List2: d\n",
      "List1:  ['a', 'b']\n",
      "List2:  ['c', 'd']\n",
      "Result:  ['ac', 'ad', 'bc', 'bd']\n"
     ]
    }
   ],
   "source": [
    "inp4 = input('How many elements? ')\n",
    "inp4 = test_input_for_integer(inp4)\n",
    "\n",
    "list1 = []\n",
    "list2 = []\n",
    "result = []\n",
    "for i in range(1, 3):\n",
    "    for j in range(1, inp4 + 1):\n",
    "        inp4_1 = input('Enter element {} of List{}: '.format(j,i))\n",
    "        if i == 1:\n",
    "            list1.append(inp4_1)\n",
    "        else:\n",
    "            list2.append(inp4_1)\n",
    "    #print(list1, list2)\n",
    "for x in list1:\n",
    "    for y in list2:\n",
    "        result.append(x+y)\n",
    "\n",
    "print('List1: ', list1)\n",
    "print('List2: ', list2)\n",
    "print('Result: ', result)"
   ]
  }
 ],
 "metadata": {
  "kernelspec": {
   "display_name": "Python 3 (ipykernel)",
   "language": "python",
   "name": "python3"
  },
  "language_info": {
   "codemirror_mode": {
    "name": "ipython",
    "version": 3
   },
   "file_extension": ".py",
   "mimetype": "text/x-python",
   "name": "python",
   "nbconvert_exporter": "python",
   "pygments_lexer": "ipython3",
   "version": "3.8.12"
  }
 },
 "nbformat": 4,
 "nbformat_minor": 5
}
