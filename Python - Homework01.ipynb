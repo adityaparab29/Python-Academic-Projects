{
 "cells": [
  {
   "attachments": {},
   "cell_type": "markdown",
   "id": "b47fc889",
   "metadata": {},
   "source": [
    "## Python Programming - Homework 1 \n",
    "\n",
    "_**Name: Aditya Ramesh Parab**_\n",
    "\n"
   ]
  },
  {
   "cell_type": "markdown",
   "id": "82de7e49",
   "metadata": {},
   "source": [
    "### Question 1 \n",
    "Implement a program that requests three strings from the user. Your program should concatenate the first two strings (string1 + string2) and compare the concatenated string with the third string. If they are equal, your program should print “They are equal”, otherwise, the program should concatenate the two strings in the reverse order (string2 + string1) and compare it with the third string and print “They are also equal”. If this second test also fails, your program should print “They are not equal”. "
   ]
  },
  {
   "cell_type": "markdown",
   "id": "222e930b",
   "metadata": {},
   "source": [
    "_The program starts with system asking user to input 3 strings one after the other. Each input is stored in a separate variable. Then as stated in the requirement the input strings (1 & 2) are compared with input string 3 with both variations_"
   ]
  },
  {
   "cell_type": "code",
   "execution_count": 1,
   "id": "6c44e399",
   "metadata": {},
   "outputs": [
    {
     "name": "stdout",
     "output_type": "stream",
     "text": [
      "Enter three strings one after other when prompted:\n",
      "Enter string 1:1\n",
      "Enter string 2:2\n",
      "Enter string 3:3\n",
      "\n",
      "Compare string 2+1 or 1+2 with string 3:\n",
      "They are not equal\n"
     ]
    }
   ],
   "source": [
    "print('Enter three strings one after other when prompted:')\n",
    "str1 = input('Enter string 1:')\n",
    "str2 = input('Enter string 2:')\n",
    "str3 = input('Enter string 3:')\n",
    "\n",
    "if str1 + str2 == str3:\n",
    "    print('\\nCompare string 1+2 with string 3:\\nThey are equal')\n",
    "elif str2 + str1 == str3:     \n",
    "    print('\\nCompare string 2+1 with string 3:\\nThey are also equal')\n",
    "else:\n",
    "    print('\\nCompare string 2+1 or 1+2 with string 3:\\nThey are not equal')"
   ]
  },
  {
   "cell_type": "markdown",
   "id": "dca23f9e",
   "metadata": {},
   "source": [
    "### Question 2\n",
    "Write a Python program that reads in 3 integers or 4 integers (user first determines 3 or 4 integers) and displays the following:\n",
    "1. The average of the numbers (round to the closest integer, use < .5 to round down and >= .5 to round up )\n",
    "2. The maximum of the numbers\n",
    "3. The minimum of the numbers\n",
    "4. The median of the numbers. Note that if there was 2 numbers that qualify for the median, you will calculate and display the mean of the 2 numbers (round to the closest integer, use < .5 to round down and >= .5 to round up )"
   ]
  },
  {
   "cell_type": "markdown",
   "id": "35f7914e",
   "metadata": {},
   "source": [
    "_The following function 'test_input_for_integer' checks if the passed string parameter contains a Valid Integer. If yes it will return the integer value else it will prompt user to enter an integer value\n",
    "<br>Being in a while loop the function won't exit until the user enters a valid Integer Value_"
   ]
  },
  {
   "cell_type": "code",
   "execution_count": 5,
   "id": "0e729a5b",
   "metadata": {},
   "outputs": [],
   "source": [
    "def test_input_for_integer(inp):\n",
    "    while(True):\n",
    "        try:\n",
    "            n = int(inp)\n",
    "            return n\n",
    "        except:\n",
    "            print('Not a valid input. Please enter integer only')\n",
    "            inp = input('Enter again : ')"
   ]
  },
  {
   "cell_type": "markdown",
   "id": "f4be4e4c",
   "metadata": {},
   "source": [
    "_The following function 'findMax' accepts a list or array of Integers/Float as its input parameter.\n",
    "<br>- Variable **max_value** is initialized to null\n",
    "<br>- A for loop is used to iterate through the list or array and the variable max_value is updated eveytime a value greater than itself appears in the iteration index value\n",
    "<br>- Finally after the loop ends the value contained in the variable max_value is returned_"
   ]
  },
  {
   "cell_type": "code",
   "execution_count": 2,
   "id": "a7d62dfc",
   "metadata": {},
   "outputs": [],
   "source": [
    "def findMax(numbers):\n",
    "    if numbers:\n",
    "        max_value = None\n",
    "        for num in numbers:\n",
    "            # Check if iteration index value is greater than max_value. If yes update max_value\n",
    "            if (max_value is None or num > max_value):\n",
    "                max_value = num\n",
    "        return max_value\n",
    "    else:\n",
    "        # Ideally should never reach here if calling method takes care of the input parameter\n",
    "        print('Something went wrong!')"
   ]
  },
  {
   "cell_type": "markdown",
   "id": "26d0dade",
   "metadata": {},
   "source": [
    "_The following function 'findMin' accepts a list or array of Integers/Float as its input parameter.\n",
    "<br>- Variable **min_value** is initialized to null\n",
    "<br>- A for loop is used to iterate through the list or array and the variable min_value is updated eveytime a value smaller than itself appears in the iteration index value\n",
    "<br>- Finally after the loop ends the value contained in the variable min_value is returned_"
   ]
  },
  {
   "cell_type": "code",
   "execution_count": 3,
   "id": "e8ef5bbf",
   "metadata": {},
   "outputs": [],
   "source": [
    "def findMin(numbers):\n",
    "    if numbers:\n",
    "        min_value = None\n",
    "        for num in numbers:\n",
    "            # Check if iteration index value is smaller than max_value. If yes update min_value\n",
    "            if (min_value is None or num < min_value):\n",
    "                min_value = num\n",
    "        return min_value\n",
    "    else:\n",
    "        # Ideally should never reach here if calling method takes care of the input parameter\n",
    "        print('Something went wrong!')"
   ]
  },
  {
   "cell_type": "code",
   "execution_count": 6,
   "id": "abbbb6f1",
   "metadata": {},
   "outputs": [
    {
     "name": "stdout",
     "output_type": "stream",
     "text": [
      "How many intergers you want to input? (Should be either 3 or 4) : 4\n",
      "Enter integer 1: 7\n",
      "Enter integer 2: 10\n",
      "Enter integer 3: 1\n",
      "Enter integer 4: 6\n",
      "\n",
      "The average of [7, 10, 1, 6] is : 6\n",
      "The median of [7, 10, 1, 6] is : 7\n",
      "The maximum of [7, 10, 1, 6] is : 10\n",
      "The minimum of [7, 10, 1, 6] is : 1\n"
     ]
    }
   ],
   "source": [
    "import statistics\n",
    "import math\n",
    "\n",
    "inp = input('How many intergers you want to input? (Should be either 3 or 4) : ')\n",
    "\n",
    "# Direct check as '3' or '4'. Anything apart from that is not accepted.\n",
    "if inp == '3' or inp == '4':\n",
    "    n = int(inp)\n",
    "    numbers = [] # Initialize a list\n",
    "    \n",
    "    # Ask for input from user. Loop count is 3 or 4 depending on the user's previous input\n",
    "    for i in range(1,n+1):\n",
    "        i = test_input_for_integer(input('Enter integer {}: '.format(i)))\n",
    "        numbers.append(i) #Appending all input integers to a list\n",
    "    \n",
    "    # Average = sum of all divide by total count n\n",
    "    average = sum(numbers)/n\n",
    "    \n",
    "    # Rounding as per requirement stated. Used Ternary operator\n",
    "    average = math.floor(average) if average % 1 < 0.5 else math.ceil(average)\n",
    "    \n",
    "    # Median using Python statistics library\n",
    "    median = statistics.median(numbers)\n",
    "    \n",
    "    # Rounding as per requirement stated. Used Ternary operator\n",
    "    median = math.floor(median) if median % 1 < 0.5 else math.ceil(median)\n",
    "    \n",
    "    # Maximum and Minimum Number using pre defined functions\n",
    "    maxNum = findMax(numbers)\n",
    "    minNum = findMin(numbers)\n",
    "        \n",
    "    print('\\nThe average of', numbers, 'is :', average)\n",
    "    print('The median of', numbers, 'is :', median)\n",
    "    print('The maximum of', numbers, 'is :', maxNum)\n",
    "    print('The minimum of', numbers, 'is :', minNum)\n",
    "else:\n",
    "    print('Invalid Input')"
   ]
  },
  {
   "cell_type": "markdown",
   "id": "eec4b595",
   "metadata": {},
   "source": [
    "### Question 3\n",
    "A number that is greater than 1 that is not a prime number is called a composite number. An integer, greater than 1, that is only divisible by 1 and itself is called a prime number. The integers 0 and 1 are neither prime nor composite. Write a python program that requests a positive integer from the user, determines if it is a composite, a prime or neither prime or composite and prints the message. You can choose to use iterative loops to repeatedly run this script or have the user run the script for every input. Please specify instructions on which method you are using to run the code in markdown language above the code cell."
   ]
  },
  {
   "cell_type": "markdown",
   "id": "b50ce37f",
   "metadata": {},
   "source": [
    "_The below function 'is_prime' checks if the number passed in the parameter is a prime or not provided the number is not 0,1,2 or 3. The condtion for [0,1,2,3] is handled in the driving function.\n",
    "<br>The 'is_prime' function checks for divisibilty from 2 onwards till n/2. n/2 because a number cannot have factors greater than half of it i.e a number cannot be divisible by any number which is greater than half its value. This simply reduces the iteration count and helps run code faster.\n",
    "<br><br> For example: 12 - The highest factor 12 can have is 6 (12/2), no other number greater than 6(other than 12 itself) can be a factor of 12._"
   ]
  },
  {
   "cell_type": "code",
   "execution_count": 7,
   "id": "60e04cae",
   "metadata": {},
   "outputs": [],
   "source": [
    "def is_prime(number):\n",
    "    # Iterate from 2 to n/2\n",
    "    for i in range(2, int(number/2)+1):\n",
    "        # If num is divisible by any number between 2 and n/2, it is not prime\n",
    "        if (number % i) == 0:\n",
    "            #print(number,'is divisible by', i)\n",
    "            return False\n",
    "    return True"
   ]
  },
  {
   "cell_type": "code",
   "execution_count": 9,
   "id": "5e89bd49",
   "metadata": {},
   "outputs": [
    {
     "name": "stdout",
     "output_type": "stream",
     "text": [
      "Integer Test for Prime, Composite or Neither\n",
      "\n",
      "Enter positive integer : -1\n",
      "Not a postive integer\n",
      "\n",
      "Do you want to check more integers?(y/n) : Y\n",
      "Enter positive integer : 793\n",
      "Integer 793 is a composite number\n",
      "\n",
      "Do you want to check more integers?(y/n) : y\n",
      "Enter positive integer : 739\n",
      "Integer 739 is a prime number\n",
      "\n",
      "Do you want to check more integers?(y/n) : n\n",
      "Goodbye!\n"
     ]
    }
   ],
   "source": [
    "print('Integer Test for Prime, Composite or Neither\\n')\n",
    "# Loop driven to run program repeatedly till user wishes to exit.\n",
    "while True:\n",
    "    inp = input('Enter positive integer : ')\n",
    "    number = test_input_for_integer(inp)\n",
    "\n",
    "    if number < 0:\n",
    "        print('Not a postive integer')\n",
    "    elif number in [0,1]:\n",
    "        print('Integer', number, 'is neither prime nor composite')\n",
    "    elif number in [2,3]:\n",
    "        print('Integer', number, 'is a prime number')\n",
    "    elif is_prime(number):\n",
    "        print('Integer', number, 'is a prime number')\n",
    "    else:\n",
    "        print('Integer', number, 'is a composite number')\n",
    "\n",
    "    choice = input('\\nDo you want to check more integers?(y/n) : ')\n",
    "    if choice == 'Y' or choice == 'y':\n",
    "        continue\n",
    "    elif choice == 'N' or choice == 'n':\n",
    "        print('Goodbye!')\n",
    "        break\n",
    "    else:\n",
    "        print('Invalid Choice. Exiting!')\n",
    "        break"
   ]
  },
  {
   "cell_type": "markdown",
   "id": "11bea86c",
   "metadata": {},
   "source": [
    "### Question 4\n",
    "\n",
    "Implement a Python function called SmartDivision() that takes two integer arguments. Your function should return the result of the division of the two integers. If the result is an integer, the return type should be an integer. If the result is a floating point number, the return type should be a floating point number.\n",
    " \n",
    "\n",
    "Write a main program that requests the two integers (perform error checking for non-integer inputs). Also in the main program you should call your defined function SmartDivision() that takes 2 arguments and display the result of the division and the return type."
   ]
  },
  {
   "cell_type": "code",
   "execution_count": 10,
   "id": "94939126",
   "metadata": {},
   "outputs": [],
   "source": [
    "# Basic Division\n",
    "import math\n",
    "\n",
    "def smartDivision(dividend, divisor):\n",
    "    if divisor == 0:\n",
    "        return \"Error: division by zero\"\n",
    "    else:\n",
    "        result = dividend / divisor\n",
    "        if math.floor(result) == result or math.ceil(result) == result:\n",
    "            return int(result)\n",
    "        else:\n",
    "            return result\n"
   ]
  },
  {
   "cell_type": "code",
   "execution_count": 15,
   "id": "ef68ca6b",
   "metadata": {},
   "outputs": [],
   "source": [
    "def main():\n",
    "    dividend = input('Enter dividend (integer) : ')\n",
    "    dividend = test_input_for_integer(dividend)\n",
    "    \n",
    "    divisor = input('Enter divisor (integer) : ')\n",
    "    divisor = test_input_for_integer(divisor)\n",
    "    \n",
    "    # Divison always yeilds float\n",
    "    result = smartDivision(dividend, divisor)\n",
    "\n",
    "    if isinstance(result, int):\n",
    "        print(f\"The result of the division {dividend} / {divisor} is {result} (integer)\")\n",
    "    elif isinstance(result, float):\n",
    "        print(f\"The result of the division {dividend} / {divisor}  is {result} (float)\")\n",
    "    else:\n",
    "        print(result)"
   ]
  },
  {
   "cell_type": "code",
   "execution_count": 17,
   "id": "7e9b485d",
   "metadata": {},
   "outputs": [
    {
     "name": "stdout",
     "output_type": "stream",
     "text": [
      "The result of the division 10 / 5 is 2 (integer)\n"
     ]
    }
   ],
   "source": [
    "main()"
   ]
  },
  {
   "cell_type": "markdown",
   "id": "b1b794ef",
   "metadata": {},
   "source": [
    "### Question 5\n",
    "\n",
    "Write a program that takes as input two opposite corners of a rectangle: (x1,y1) and (x2,y2) – float or integer only. Finally, the user is prompted for the coordinates of a third point (x,y). The program should print Boolean value True or False based on whether the point (x,y) lies within the rectangle. At the end of each run, the user should be prompted to ask whether they want to continue.\n",
    "\n",
    "Note that the rectangle could fall anywhere in the 2X2 plane of real numbers."
   ]
  },
  {
   "cell_type": "markdown",
   "id": "fe35a11a",
   "metadata": {},
   "source": [
    "_If x lies between minX value and maxX value of the defined rectangle as well as y lies between minY value and maxY of the defined rectangle, the point (x,y) is inside the rectangle(considering its a right angled rectangle)\n",
    "<br>Irrespective of the user input the driver function 'pointProgram' determines the smallest (bottom left) and the largest(top right) co-ordinates of the rectangle_"
   ]
  },
  {
   "cell_type": "code",
   "execution_count": 13,
   "id": "2bce8bb9",
   "metadata": {},
   "outputs": [],
   "source": [
    "def checkPoint(x1, y1, x2, y2, x, y) :\n",
    "    if (x > x1 and x < x2 and\n",
    "        y > y1 and y < y2) :\n",
    "        return True\n",
    "    else :\n",
    "        return False"
   ]
  },
  {
   "cell_type": "code",
   "execution_count": 14,
   "id": "deabe20b",
   "metadata": {},
   "outputs": [],
   "source": [
    "def test_input_for_number(inp):\n",
    "    while(True):\n",
    "        try:\n",
    "            n = float(inp)\n",
    "            return n\n",
    "        except:\n",
    "            print('Not a valid input. Please enter number only')\n",
    "            inp = input('Enter again : ')"
   ]
  },
  {
   "cell_type": "code",
   "execution_count": 15,
   "id": "c5951e4c",
   "metadata": {},
   "outputs": [],
   "source": [
    "def pointProgram():\n",
    "    print('Enter the coordinates of the rectangle')\n",
    "    x1 = input('Enter x1 : ')\n",
    "    x1 = test_input_for_number(x1)\n",
    "    \n",
    "    y1 = input('Enter y1 : ')\n",
    "    y1 = test_input_for_number(y1)\n",
    "    \n",
    "    x2 = input('Enter x2 : ')\n",
    "    x2 = test_input_for_number(x2)\n",
    "    \n",
    "    y2 = input('Enter y2 : ')\n",
    "    y2 = test_input_for_number(y2)\n",
    "    \n",
    "    print('\\nEnter the coordinates of the point to test')\n",
    "    x = input('Enter x : ')\n",
    "    x = test_input_for_number(x)\n",
    "    \n",
    "    y = input('Enter y : ')\n",
    "    y = test_input_for_number(y)\n",
    "    \n",
    "    # Determine the smallest (bottom left) and the largest(top right) co-ordinates of the rectangle \n",
    "    # and pass it to the checkPoint function\n",
    "    if checkPoint(findMin([x1,x2]), findMin([y1,y2]), findMax([x1,x2]), findMax([y1,y2]), x, y):\n",
    "        print('True. Point(', x,',',y,'lies inside the defined rectangle')\n",
    "    else:\n",
    "        print('False. Point(', x,',',y,'is not inside the defined rectangle')"
   ]
  },
  {
   "cell_type": "code",
   "execution_count": 16,
   "id": "3317b986",
   "metadata": {},
   "outputs": [],
   "source": [
    "def main():\n",
    "    while True:\n",
    "        pointProgram()\n",
    "        choice = input('\\nDo you want to continue?(y/n) : ')\n",
    "        if choice == 'Y' or choice == 'y':\n",
    "            continue\n",
    "        elif choice == 'N' or choice == 'n':\n",
    "            print('Goodbye!')\n",
    "            break\n",
    "        else:\n",
    "            print('Invalid Choice. Exiting')\n",
    "            break"
   ]
  },
  {
   "cell_type": "code",
   "execution_count": 17,
   "id": "4e3ccef9",
   "metadata": {},
   "outputs": [
    {
     "name": "stdout",
     "output_type": "stream",
     "text": [
      "Enter the coordinates of the rectangle\n",
      "Enter x1 : 4\n",
      "Enter y1 : 1\n",
      "Enter x2 : 1\n",
      "Enter y2 : 5\n",
      "\n",
      "Enter the coordinates of the point to test\n",
      "Enter x : 2\n",
      "Enter y : 2\n",
      "True. Point( 2.0 , 2.0 lies inside the defined rectangle\n",
      "\n",
      "Do you want to continue?(y/n) : y\n",
      "Enter the coordinates of the rectangle\n",
      "Enter x1 : 5\n",
      "Enter y1 : -5\n",
      "Enter x2 : -1\n",
      "Enter y2 : -1\n",
      "\n",
      "Enter the coordinates of the point to test\n",
      "Enter x : 2\n",
      "Enter y : -3\n",
      "True. Point( 2.0 , -3.0 lies inside the defined rectangle\n",
      "\n",
      "Do you want to continue?(y/n) : y\n",
      "Enter the coordinates of the rectangle\n",
      "Enter x1 : 4\n",
      "Enter y1 : 1\n",
      "Enter x2 : 1\n",
      "Enter y2 : 5\n",
      "\n",
      "Enter the coordinates of the point to test\n",
      "Enter x : 2\n",
      "Enter y : 6\n",
      "False. Point( 2.0 , 6.0 is not inside the defined rectangle\n",
      "\n",
      "Do you want to continue?(y/n) : n\n",
      "Goodbye!\n"
     ]
    }
   ],
   "source": [
    "main()"
   ]
  },
  {
   "cell_type": "code",
   "execution_count": null,
   "id": "229b65dd",
   "metadata": {},
   "outputs": [],
   "source": []
  }
 ],
 "metadata": {
  "kernelspec": {
   "display_name": "Python 3 (ipykernel)",
   "language": "python",
   "name": "python3"
  },
  "language_info": {
   "codemirror_mode": {
    "name": "ipython",
    "version": 3
   },
   "file_extension": ".py",
   "mimetype": "text/x-python",
   "name": "python",
   "nbconvert_exporter": "python",
   "pygments_lexer": "ipython3",
   "version": "3.8.12"
  }
 },
 "nbformat": 4,
 "nbformat_minor": 5
}
